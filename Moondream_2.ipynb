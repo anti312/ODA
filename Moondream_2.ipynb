{
  "nbformat": 4,
  "nbformat_minor": 0,
  "metadata": {
    "colab": {
      "provenance": [],
      "gpuType": "T4",
      "toc_visible": true
    },
    "kernelspec": {
      "name": "python3",
      "display_name": "Python 3"
    },
    "language_info": {
      "name": "python"
    },
    "accelerator": "GPU"
  },
  "cells": [
    {
      "cell_type": "markdown",
      "source": [
        "# Install packages"
      ],
      "metadata": {
        "id": "kE6a0al0uilb"
      }
    },
    {
      "cell_type": "code",
      "source": [
        "!pip install transformers torch pillow einops\n",
        "!pip install torch==2.5.1+cu121 torchvision==0.20.1+cu121 --index-url https://download.pytorch.org/whl/cu121\n",
        "!pip install pyvips-binary pyvips\n",
        "!pip install accelerate\n",
        "\n",
        "from transformers import AutoModelForCausalLM, AutoTokenizer\n",
        "from PIL import Image\n",
        "import shutil\n",
        "from google.colab import files\n",
        "import os\n",
        "from google.colab import drive\n",
        "\n",
        "drive.mount('/content/drive')\n"
      ],
      "metadata": {
        "colab": {
          "base_uri": "https://localhost:8080/"
        },
        "collapsed": true,
        "id": "De9kbYufvtCH",
        "outputId": "fa73c9f3-3651-4729-d75e-1f6a2e3014c3"
      },
      "execution_count": null,
      "outputs": [
        {
          "output_type": "stream",
          "name": "stdout",
          "text": [
            "Requirement already satisfied: transformers in /usr/local/lib/python3.11/dist-packages (4.51.3)\n",
            "Requirement already satisfied: torch in /usr/local/lib/python3.11/dist-packages (2.5.1+cu121)\n",
            "Requirement already satisfied: pillow in /usr/local/lib/python3.11/dist-packages (11.2.1)\n",
            "Requirement already satisfied: einops in /usr/local/lib/python3.11/dist-packages (0.8.1)\n",
            "Requirement already satisfied: filelock in /usr/local/lib/python3.11/dist-packages (from transformers) (3.18.0)\n",
            "Requirement already satisfied: huggingface-hub<1.0,>=0.30.0 in /usr/local/lib/python3.11/dist-packages (from transformers) (0.31.2)\n",
            "Requirement already satisfied: numpy>=1.17 in /usr/local/lib/python3.11/dist-packages (from transformers) (2.0.2)\n",
            "Requirement already satisfied: packaging>=20.0 in /usr/local/lib/python3.11/dist-packages (from transformers) (24.2)\n",
            "Requirement already satisfied: pyyaml>=5.1 in /usr/local/lib/python3.11/dist-packages (from transformers) (6.0.2)\n",
            "Requirement already satisfied: regex!=2019.12.17 in /usr/local/lib/python3.11/dist-packages (from transformers) (2024.11.6)\n",
            "Requirement already satisfied: requests in /usr/local/lib/python3.11/dist-packages (from transformers) (2.32.3)\n",
            "Requirement already satisfied: tokenizers<0.22,>=0.21 in /usr/local/lib/python3.11/dist-packages (from transformers) (0.21.1)\n",
            "Requirement already satisfied: safetensors>=0.4.3 in /usr/local/lib/python3.11/dist-packages (from transformers) (0.5.3)\n",
            "Requirement already satisfied: tqdm>=4.27 in /usr/local/lib/python3.11/dist-packages (from transformers) (4.67.1)\n",
            "Requirement already satisfied: typing-extensions>=4.8.0 in /usr/local/lib/python3.11/dist-packages (from torch) (4.13.2)\n",
            "Requirement already satisfied: networkx in /usr/local/lib/python3.11/dist-packages (from torch) (3.4.2)\n",
            "Requirement already satisfied: jinja2 in /usr/local/lib/python3.11/dist-packages (from torch) (3.1.6)\n",
            "Requirement already satisfied: fsspec in /usr/local/lib/python3.11/dist-packages (from torch) (2025.3.2)\n",
            "Requirement already satisfied: nvidia-cuda-nvrtc-cu12==12.1.105 in /usr/local/lib/python3.11/dist-packages (from torch) (12.1.105)\n",
            "Requirement already satisfied: nvidia-cuda-runtime-cu12==12.1.105 in /usr/local/lib/python3.11/dist-packages (from torch) (12.1.105)\n",
            "Requirement already satisfied: nvidia-cuda-cupti-cu12==12.1.105 in /usr/local/lib/python3.11/dist-packages (from torch) (12.1.105)\n",
            "Requirement already satisfied: nvidia-cudnn-cu12==9.1.0.70 in /usr/local/lib/python3.11/dist-packages (from torch) (9.1.0.70)\n",
            "Requirement already satisfied: nvidia-cublas-cu12==12.1.3.1 in /usr/local/lib/python3.11/dist-packages (from torch) (12.1.3.1)\n",
            "Requirement already satisfied: nvidia-cufft-cu12==11.0.2.54 in /usr/local/lib/python3.11/dist-packages (from torch) (11.0.2.54)\n",
            "Requirement already satisfied: nvidia-curand-cu12==10.3.2.106 in /usr/local/lib/python3.11/dist-packages (from torch) (10.3.2.106)\n",
            "Requirement already satisfied: nvidia-cusolver-cu12==11.4.5.107 in /usr/local/lib/python3.11/dist-packages (from torch) (11.4.5.107)\n",
            "Requirement already satisfied: nvidia-cusparse-cu12==12.1.0.106 in /usr/local/lib/python3.11/dist-packages (from torch) (12.1.0.106)\n",
            "Requirement already satisfied: nvidia-nccl-cu12==2.21.5 in /usr/local/lib/python3.11/dist-packages (from torch) (2.21.5)\n",
            "Requirement already satisfied: nvidia-nvtx-cu12==12.1.105 in /usr/local/lib/python3.11/dist-packages (from torch) (12.1.105)\n",
            "Requirement already satisfied: triton==3.1.0 in /usr/local/lib/python3.11/dist-packages (from torch) (3.1.0)\n",
            "Requirement already satisfied: sympy==1.13.1 in /usr/local/lib/python3.11/dist-packages (from torch) (1.13.1)\n",
            "Requirement already satisfied: nvidia-nvjitlink-cu12 in /usr/local/lib/python3.11/dist-packages (from nvidia-cusolver-cu12==11.4.5.107->torch) (12.4.127)\n",
            "Requirement already satisfied: mpmath<1.4,>=1.1.0 in /usr/local/lib/python3.11/dist-packages (from sympy==1.13.1->torch) (1.3.0)\n",
            "Requirement already satisfied: MarkupSafe>=2.0 in /usr/local/lib/python3.11/dist-packages (from jinja2->torch) (3.0.2)\n",
            "Requirement already satisfied: charset-normalizer<4,>=2 in /usr/local/lib/python3.11/dist-packages (from requests->transformers) (3.4.2)\n",
            "Requirement already satisfied: idna<4,>=2.5 in /usr/local/lib/python3.11/dist-packages (from requests->transformers) (3.10)\n",
            "Requirement already satisfied: urllib3<3,>=1.21.1 in /usr/local/lib/python3.11/dist-packages (from requests->transformers) (2.4.0)\n",
            "Requirement already satisfied: certifi>=2017.4.17 in /usr/local/lib/python3.11/dist-packages (from requests->transformers) (2025.4.26)\n",
            "Looking in indexes: https://download.pytorch.org/whl/cu121\n",
            "Requirement already satisfied: torch==2.5.1+cu121 in /usr/local/lib/python3.11/dist-packages (2.5.1+cu121)\n",
            "Requirement already satisfied: torchvision==0.20.1+cu121 in /usr/local/lib/python3.11/dist-packages (0.20.1+cu121)\n",
            "Requirement already satisfied: filelock in /usr/local/lib/python3.11/dist-packages (from torch==2.5.1+cu121) (3.18.0)\n",
            "Requirement already satisfied: typing-extensions>=4.8.0 in /usr/local/lib/python3.11/dist-packages (from torch==2.5.1+cu121) (4.13.2)\n",
            "Requirement already satisfied: networkx in /usr/local/lib/python3.11/dist-packages (from torch==2.5.1+cu121) (3.4.2)\n",
            "Requirement already satisfied: jinja2 in /usr/local/lib/python3.11/dist-packages (from torch==2.5.1+cu121) (3.1.6)\n",
            "Requirement already satisfied: fsspec in /usr/local/lib/python3.11/dist-packages (from torch==2.5.1+cu121) (2025.3.2)\n",
            "Requirement already satisfied: nvidia-cuda-nvrtc-cu12==12.1.105 in /usr/local/lib/python3.11/dist-packages (from torch==2.5.1+cu121) (12.1.105)\n",
            "Requirement already satisfied: nvidia-cuda-runtime-cu12==12.1.105 in /usr/local/lib/python3.11/dist-packages (from torch==2.5.1+cu121) (12.1.105)\n",
            "Requirement already satisfied: nvidia-cuda-cupti-cu12==12.1.105 in /usr/local/lib/python3.11/dist-packages (from torch==2.5.1+cu121) (12.1.105)\n",
            "Requirement already satisfied: nvidia-cudnn-cu12==9.1.0.70 in /usr/local/lib/python3.11/dist-packages (from torch==2.5.1+cu121) (9.1.0.70)\n",
            "Requirement already satisfied: nvidia-cublas-cu12==12.1.3.1 in /usr/local/lib/python3.11/dist-packages (from torch==2.5.1+cu121) (12.1.3.1)\n",
            "Requirement already satisfied: nvidia-cufft-cu12==11.0.2.54 in /usr/local/lib/python3.11/dist-packages (from torch==2.5.1+cu121) (11.0.2.54)\n",
            "Requirement already satisfied: nvidia-curand-cu12==10.3.2.106 in /usr/local/lib/python3.11/dist-packages (from torch==2.5.1+cu121) (10.3.2.106)\n",
            "Requirement already satisfied: nvidia-cusolver-cu12==11.4.5.107 in /usr/local/lib/python3.11/dist-packages (from torch==2.5.1+cu121) (11.4.5.107)\n",
            "Requirement already satisfied: nvidia-cusparse-cu12==12.1.0.106 in /usr/local/lib/python3.11/dist-packages (from torch==2.5.1+cu121) (12.1.0.106)\n",
            "Requirement already satisfied: nvidia-nccl-cu12==2.21.5 in /usr/local/lib/python3.11/dist-packages (from torch==2.5.1+cu121) (2.21.5)\n",
            "Requirement already satisfied: nvidia-nvtx-cu12==12.1.105 in /usr/local/lib/python3.11/dist-packages (from torch==2.5.1+cu121) (12.1.105)\n",
            "Requirement already satisfied: triton==3.1.0 in /usr/local/lib/python3.11/dist-packages (from torch==2.5.1+cu121) (3.1.0)\n",
            "Requirement already satisfied: sympy==1.13.1 in /usr/local/lib/python3.11/dist-packages (from torch==2.5.1+cu121) (1.13.1)\n",
            "Requirement already satisfied: numpy in /usr/local/lib/python3.11/dist-packages (from torchvision==0.20.1+cu121) (2.0.2)\n",
            "Requirement already satisfied: pillow!=8.3.*,>=5.3.0 in /usr/local/lib/python3.11/dist-packages (from torchvision==0.20.1+cu121) (11.2.1)\n",
            "Requirement already satisfied: nvidia-nvjitlink-cu12 in /usr/local/lib/python3.11/dist-packages (from nvidia-cusolver-cu12==11.4.5.107->torch==2.5.1+cu121) (12.4.127)\n",
            "Requirement already satisfied: mpmath<1.4,>=1.1.0 in /usr/local/lib/python3.11/dist-packages (from sympy==1.13.1->torch==2.5.1+cu121) (1.3.0)\n",
            "Requirement already satisfied: MarkupSafe>=2.0 in /usr/local/lib/python3.11/dist-packages (from jinja2->torch==2.5.1+cu121) (3.0.2)\n",
            "Collecting pyvips-binary\n",
            "  Using cached pyvips_binary-8.16.1-cp37-abi3-manylinux_2_28_x86_64.whl.metadata (2.3 kB)\n",
            "Collecting pyvips\n",
            "  Using cached pyvips-3.0.0.tar.gz (56 kB)\n",
            "  Installing build dependencies ... \u001b[?25l\u001b[?25hdone\n",
            "  Getting requirements to build wheel ... \u001b[?25l\u001b[?25hdone\n",
            "  Preparing metadata (pyproject.toml) ... \u001b[?25l\u001b[?25hdone\n",
            "Requirement already satisfied: cffi>=1.0.0 in /usr/local/lib/python3.11/dist-packages (from pyvips-binary) (1.17.1)\n",
            "Requirement already satisfied: pycparser in /usr/local/lib/python3.11/dist-packages (from cffi>=1.0.0->pyvips-binary) (2.22)\n",
            "Downloading pyvips_binary-8.16.1-cp37-abi3-manylinux_2_28_x86_64.whl (7.3 MB)\n",
            "\u001b[2K   \u001b[90m━━━━━━━━━━━━━━━━━━━━━━━━━━━━━━━━━━━━━━━━\u001b[0m \u001b[32m7.3/7.3 MB\u001b[0m \u001b[31m84.3 MB/s\u001b[0m eta \u001b[36m0:00:00\u001b[0m\n",
            "\u001b[?25hBuilding wheels for collected packages: pyvips\n",
            "  Building wheel for pyvips (pyproject.toml) ... \u001b[?25l\u001b[?25hdone\n",
            "  Created wheel for pyvips: filename=pyvips-3.0.0-py3-none-any.whl size=54256 sha256=4699f17d35a080e6df929021c6add80528a2c70baa4531e36633d87ecac9a7e2\n",
            "  Stored in directory: /root/.cache/pip/wheels/8d/87/bb/ce9a0c257881486852c02c8c50a021684807b40d9579ec4568\n",
            "Successfully built pyvips\n",
            "Installing collected packages: pyvips-binary, pyvips\n",
            "Successfully installed pyvips-3.0.0 pyvips-binary-8.16.1\n",
            "Requirement already satisfied: accelerate in /usr/local/lib/python3.11/dist-packages (1.6.0)\n",
            "Requirement already satisfied: numpy<3.0.0,>=1.17 in /usr/local/lib/python3.11/dist-packages (from accelerate) (2.0.2)\n",
            "Requirement already satisfied: packaging>=20.0 in /usr/local/lib/python3.11/dist-packages (from accelerate) (24.2)\n",
            "Requirement already satisfied: psutil in /usr/local/lib/python3.11/dist-packages (from accelerate) (5.9.5)\n",
            "Requirement already satisfied: pyyaml in /usr/local/lib/python3.11/dist-packages (from accelerate) (6.0.2)\n",
            "Requirement already satisfied: torch>=2.0.0 in /usr/local/lib/python3.11/dist-packages (from accelerate) (2.5.1+cu121)\n",
            "Requirement already satisfied: huggingface-hub>=0.21.0 in /usr/local/lib/python3.11/dist-packages (from accelerate) (0.31.2)\n",
            "Requirement already satisfied: safetensors>=0.4.3 in /usr/local/lib/python3.11/dist-packages (from accelerate) (0.5.3)\n",
            "Requirement already satisfied: filelock in /usr/local/lib/python3.11/dist-packages (from huggingface-hub>=0.21.0->accelerate) (3.18.0)\n",
            "Requirement already satisfied: fsspec>=2023.5.0 in /usr/local/lib/python3.11/dist-packages (from huggingface-hub>=0.21.0->accelerate) (2025.3.2)\n",
            "Requirement already satisfied: requests in /usr/local/lib/python3.11/dist-packages (from huggingface-hub>=0.21.0->accelerate) (2.32.3)\n",
            "Requirement already satisfied: tqdm>=4.42.1 in /usr/local/lib/python3.11/dist-packages (from huggingface-hub>=0.21.0->accelerate) (4.67.1)\n",
            "Requirement already satisfied: typing-extensions>=3.7.4.3 in /usr/local/lib/python3.11/dist-packages (from huggingface-hub>=0.21.0->accelerate) (4.13.2)\n",
            "Requirement already satisfied: networkx in /usr/local/lib/python3.11/dist-packages (from torch>=2.0.0->accelerate) (3.4.2)\n",
            "Requirement already satisfied: jinja2 in /usr/local/lib/python3.11/dist-packages (from torch>=2.0.0->accelerate) (3.1.6)\n",
            "Requirement already satisfied: nvidia-cuda-nvrtc-cu12==12.1.105 in /usr/local/lib/python3.11/dist-packages (from torch>=2.0.0->accelerate) (12.1.105)\n",
            "Requirement already satisfied: nvidia-cuda-runtime-cu12==12.1.105 in /usr/local/lib/python3.11/dist-packages (from torch>=2.0.0->accelerate) (12.1.105)\n",
            "Requirement already satisfied: nvidia-cuda-cupti-cu12==12.1.105 in /usr/local/lib/python3.11/dist-packages (from torch>=2.0.0->accelerate) (12.1.105)\n",
            "Requirement already satisfied: nvidia-cudnn-cu12==9.1.0.70 in /usr/local/lib/python3.11/dist-packages (from torch>=2.0.0->accelerate) (9.1.0.70)\n",
            "Requirement already satisfied: nvidia-cublas-cu12==12.1.3.1 in /usr/local/lib/python3.11/dist-packages (from torch>=2.0.0->accelerate) (12.1.3.1)\n",
            "Requirement already satisfied: nvidia-cufft-cu12==11.0.2.54 in /usr/local/lib/python3.11/dist-packages (from torch>=2.0.0->accelerate) (11.0.2.54)\n",
            "Requirement already satisfied: nvidia-curand-cu12==10.3.2.106 in /usr/local/lib/python3.11/dist-packages (from torch>=2.0.0->accelerate) (10.3.2.106)\n",
            "Requirement already satisfied: nvidia-cusolver-cu12==11.4.5.107 in /usr/local/lib/python3.11/dist-packages (from torch>=2.0.0->accelerate) (11.4.5.107)\n",
            "Requirement already satisfied: nvidia-cusparse-cu12==12.1.0.106 in /usr/local/lib/python3.11/dist-packages (from torch>=2.0.0->accelerate) (12.1.0.106)\n",
            "Requirement already satisfied: nvidia-nccl-cu12==2.21.5 in /usr/local/lib/python3.11/dist-packages (from torch>=2.0.0->accelerate) (2.21.5)\n",
            "Requirement already satisfied: nvidia-nvtx-cu12==12.1.105 in /usr/local/lib/python3.11/dist-packages (from torch>=2.0.0->accelerate) (12.1.105)\n",
            "Requirement already satisfied: triton==3.1.0 in /usr/local/lib/python3.11/dist-packages (from torch>=2.0.0->accelerate) (3.1.0)\n",
            "Requirement already satisfied: sympy==1.13.1 in /usr/local/lib/python3.11/dist-packages (from torch>=2.0.0->accelerate) (1.13.1)\n",
            "Requirement already satisfied: nvidia-nvjitlink-cu12 in /usr/local/lib/python3.11/dist-packages (from nvidia-cusolver-cu12==11.4.5.107->torch>=2.0.0->accelerate) (12.4.127)\n",
            "Requirement already satisfied: mpmath<1.4,>=1.1.0 in /usr/local/lib/python3.11/dist-packages (from sympy==1.13.1->torch>=2.0.0->accelerate) (1.3.0)\n",
            "Requirement already satisfied: MarkupSafe>=2.0 in /usr/local/lib/python3.11/dist-packages (from jinja2->torch>=2.0.0->accelerate) (3.0.2)\n",
            "Requirement already satisfied: charset-normalizer<4,>=2 in /usr/local/lib/python3.11/dist-packages (from requests->huggingface-hub>=0.21.0->accelerate) (3.4.2)\n",
            "Requirement already satisfied: idna<4,>=2.5 in /usr/local/lib/python3.11/dist-packages (from requests->huggingface-hub>=0.21.0->accelerate) (3.10)\n",
            "Requirement already satisfied: urllib3<3,>=1.21.1 in /usr/local/lib/python3.11/dist-packages (from requests->huggingface-hub>=0.21.0->accelerate) (2.4.0)\n",
            "Requirement already satisfied: certifi>=2017.4.17 in /usr/local/lib/python3.11/dist-packages (from requests->huggingface-hub>=0.21.0->accelerate) (2025.4.26)\n",
            "Drive already mounted at /content/drive; to attempt to forcibly remount, call drive.mount(\"/content/drive\", force_remount=True).\n"
          ]
        }
      ]
    },
    {
      "cell_type": "markdown",
      "source": [
        "# Moondream2 model loader"
      ],
      "metadata": {
        "id": "nO0L2VHjvy6P"
      }
    },
    {
      "cell_type": "code",
      "source": [
        "model = AutoModelForCausalLM.from_pretrained(\n",
        "    \"vikhyatk/moondream2\",\n",
        "    revision=\"2025-03-27\",\n",
        "    trust_remote_code=True,\n",
        "    device_map={\"\": \"cuda\"}\n",
        ")"
      ],
      "metadata": {
        "id": "LMr1PsO6v7vk"
      },
      "execution_count": null,
      "outputs": []
    },
    {
      "cell_type": "markdown",
      "source": [
        "# Generation of Yolo annotation from images"
      ],
      "metadata": {
        "id": "0dihUdh7woGE"
      }
    },
    {
      "cell_type": "code",
      "source": [
        "def run_moondream_inference(images, objects_to_detect, model):\n",
        "    results = []\n",
        "\n",
        "    for image in images:\n",
        "        width, height = image.size\n",
        "        encoded_image = model.encode_image(image)\n",
        "\n",
        "        all_boxes = []\n",
        "\n",
        "        for obj in objects_to_detect:\n",
        "            object_id = obj[\"id\"]\n",
        "            object_name = obj[\"name\"]\n",
        "\n",
        "            detection = model.detect(encoded_image, object_name)\n",
        "\n",
        "            for bbox in detection['objects']:\n",
        "                x_min = bbox['x_min']\n",
        "                y_min = bbox['y_min']\n",
        "                x_max = bbox['x_max']\n",
        "                y_max = bbox['y_max']\n",
        "\n",
        "                # Converti in YOLO normalizzato\n",
        "                cx = (x_min + x_max) / 2\n",
        "                cy = (y_min + y_max) / 2\n",
        "                w = x_max - x_min\n",
        "                h = y_max - y_min\n",
        "\n",
        "                all_boxes.append({\n",
        "                    \"class_id\": object_id,\n",
        "                    \"cx\": cx,\n",
        "                    \"cy\": cy,\n",
        "                    \"w\": w,\n",
        "                    \"h\": h\n",
        "                })\n",
        "\n",
        "        results.append(all_boxes)\n",
        "\n",
        "    return results\n"
      ],
      "metadata": {
        "id": "XlIP2k69gj3T"
      },
      "execution_count": null,
      "outputs": []
    },
    {
      "cell_type": "markdown",
      "source": [
        "# saving annotations in a folder for each image"
      ],
      "metadata": {
        "id": "ygmiFmW2i_Nn"
      }
    },
    {
      "cell_type": "code",
      "source": [
        "def save_Moondream_predictions_as_yolo(results, filenames, output_folder):\n",
        "    os.makedirs(output_folder, exist_ok=True)\n",
        "\n",
        "    for boxes, fname in zip(results, filenames):\n",
        "        name = os.path.splitext(fname)[0]\n",
        "        txt_path = os.path.join(output_folder, f\"{name}.txt\")\n",
        "\n",
        "        lines = [\n",
        "            f\"{box['class_id']} {box['cx']:.6f} {box['cy']:.6f} {box['w']:.6f} {box['h']:.6f}\\n\"\n",
        "            for box in boxes\n",
        "        ]\n",
        "\n",
        "        with open(txt_path, \"w\") as f:\n",
        "            f.writelines(lines)\n"
      ],
      "metadata": {
        "id": "DG-rJcsWglGk"
      },
      "execution_count": null,
      "outputs": []
    },
    {
      "cell_type": "markdown",
      "source": [
        "# computing IoU between 2 boxes\n",
        "\n",
        "\n"
      ],
      "metadata": {
        "id": "F-q8LX2v6-BP"
      }
    },
    {
      "cell_type": "code",
      "source": [
        "def compute_iou(box1, box2):\n",
        "    # Extracts values of two boxes\n",
        "    cx1, cy1, w1, h1 = box1\n",
        "    cx2, cy2, w2, h2 = box2\n",
        "\n",
        "   # Convert from Yolo features to Corner box point: [cx, cy, w, h] → [x_min, y_min, x_max, y_max]\n",
        "    x1_min = cx1 - w1 / 2\n",
        "    y1_min = cy1 - h1 / 2\n",
        "    x1_max = cx1 + w1 / 2\n",
        "    y1_max = cy1 + h1 / 2\n",
        "\n",
        "    x2_min = cx2 - w2 / 2\n",
        "    y2_min = cy2 - h2 / 2\n",
        "    x2_max = cx2 + w2 / 2\n",
        "    y2_max = cy2 + h2 / 2\n",
        "\n",
        "   # Calculate ​​intersection area\n",
        "    inter_x_min = max(x1_min, x2_min)\n",
        "    inter_y_min = max(y1_min, y2_min)\n",
        "    inter_x_max = min(x1_max, x2_max)\n",
        "    inter_y_max = min(y1_max, y2_max)\n",
        "\n",
        "    inter_area = max(0, inter_x_max - inter_x_min) * max(0, inter_y_max - inter_y_min)\n",
        "\n",
        "    # Calculate total areas and union area\n",
        "    area1 = w1 * h1\n",
        "    area2 = w2 * h2\n",
        "\n",
        "    union_area = area1 + area2 - inter_area\n",
        "\n",
        "    if union_area == 0:\n",
        "        return 0.0\n",
        "\n",
        "    # Calculate IoU\n",
        "    iou = inter_area / union_area\n",
        "    return round(iou, 4)"
      ],
      "metadata": {
        "id": "Cs83B0b569mX"
      },
      "execution_count": null,
      "outputs": []
    },
    {
      "cell_type": "markdown",
      "source": [
        "# Calculate average IoU for each file and globally"
      ],
      "metadata": {
        "id": "0RPD9Fep7adm"
      }
    },
    {
      "cell_type": "code",
      "source": [
        "def evaluate_model(gt_folder, predicted_folder):\n",
        "  global_ious = []\n",
        "\n",
        "  for filename in sorted(os.listdir(gt_folder)):\n",
        "      if not filename.endswith(\".txt\"):\n",
        "          continue\n",
        "\n",
        "      gt_path = os.path.join(gt_folder, filename)\n",
        "      pred_path = os.path.join(predicted_folder, filename)\n",
        "\n",
        "      if not os.path.exists(pred_path):\n",
        "          print(f\"⚠️ Predizione mancante per {filename}\")\n",
        "          continue\n",
        "\n",
        "      # Leggi GT: class cx cy w h\n",
        "      with open(gt_path, 'r') as f:\n",
        "          gt_boxes = [list(map(float, line.strip().split())) for line in f if line.strip()]\n",
        "\n",
        "      # Leggi predizioni: class cx cy w h\n",
        "      with open(pred_path, 'r') as f:\n",
        "          pred_boxes = [list(map(float, line.strip().split())) for line in f if line.strip()]\n",
        "\n",
        "      file_ious = []\n",
        "\n",
        "      for gt in gt_boxes:\n",
        "          gt_box = gt[1:]\n",
        "          best_iou = 0.0\n",
        "\n",
        "          for pred in pred_boxes:\n",
        "              pred_box = pred[1:]\n",
        "              iou = compute_iou(gt_box, pred_box)\n",
        "              best_iou = max(best_iou, iou)\n",
        "\n",
        "          file_ious.append(best_iou)\n",
        "          global_ious.append(best_iou)\n",
        "\n",
        "      # IoU avarage for each file\n",
        "      if file_ious:\n",
        "          avg_file_iou = sum(file_ious) / len(file_ious)\n",
        "          print(f\"📁 {filename} — media IoU = {avg_file_iou:.4f}\")\n",
        "      else:\n",
        "          print(f\"📁 {filename} — ⚠️ nessun box da valutare.\")\n",
        "\n",
        "  # Global IoU avarage\n",
        "  if global_ious:\n",
        "      avg_iou = sum(global_ious) / len(global_ious)\n",
        "      print(f\"\\n✅ Media IoU globale su {len(global_ious)} box: {avg_iou:.4f}\")\n",
        "  else:\n",
        "      print(\"\\n❌ Nessun confronto valido effettuato.\")\n"
      ],
      "metadata": {
        "id": "ABolL8HL7m91",
        "collapsed": true
      },
      "execution_count": null,
      "outputs": []
    },
    {
      "cell_type": "markdown",
      "source": [
        "# prompt definition and execution"
      ],
      "metadata": {
        "id": "HhVpehaljcXq"
      }
    },
    {
      "cell_type": "code",
      "source": [
        "# Specify image folder(dataset) predictions folder(pred) and ground truth annotations folder(gt)\n",
        "dataset_folder = \"/content/drive/MyDrive/Colab Notebooks/dataset\"\n",
        "pred_folder = \"/content/drive/MyDrive/Colab Notebooks/dataset/MoonDream2Annotations\"\n",
        "gt_folder = \"/content/drive/MyDrive/Colab Notebooks/dataset/annotations\"\n",
        "\n",
        "#specify objects to detect\n",
        "objects = [\n",
        "    {\"id\": 0, \"name\": \" damaged car\"},\n",
        "]\n",
        "\n",
        "# objects detection in images\n",
        "moondream_results = run_moondream_inference(images, objects, model)\n",
        "\n",
        "# Saving results as yolo format in predictions folder\n",
        "save_predictions_as_yolo(moondream_results, filenames, pred_folder)\n",
        "\n",
        "#evaluate model using IoU\n",
        "evaluate_model(gt_folder, predicted_folder)"
      ],
      "metadata": {
        "id": "NKgwIsKQxmRF"
      },
      "execution_count": null,
      "outputs": []
    },
    {
      "cell_type": "markdown",
      "source": [
        "# saving predictions folder in a zip file(non provato)"
      ],
      "metadata": {
        "id": "9nh5J4WYa7ID"
      }
    },
    {
      "cell_type": "code",
      "source": [
        "# NON PROVATO\n",
        "# Percorso del file ZIP\n",
        "zip_path = '/content/dataset.zip'\n",
        "\n",
        "# Crea ZIP dell'intera cartella del dataset\n",
        "shutil.make_archive(zip_path.replace('.zip', ''), 'zip', dataset_folder)\n",
        "\n",
        "# Avvia download del file ZIP\n",
        "files.download(zip_path)\n"
      ],
      "metadata": {
        "id": "r1JLsjc2xnQd",
        "collapsed": true
      },
      "execution_count": null,
      "outputs": []
    }
  ]
}